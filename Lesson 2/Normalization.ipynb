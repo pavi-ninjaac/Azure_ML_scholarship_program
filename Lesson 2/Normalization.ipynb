{
 "cells": [
  {
   "cell_type": "code",
   "execution_count": 1,
   "metadata": {},
   "outputs": [],
   "source": [
    "#import the pandas libraire\n",
    "import pandas as pd\n"
   ]
  },
  {
   "cell_type": "code",
   "execution_count": 8,
   "metadata": {},
   "outputs": [
    {
     "name": "stdout",
     "output_type": "stream",
     "text": [
      "un normalized dataframe\n",
      "   Data1  Data2\n",
      "0     10     40\n",
      "1     20     50\n",
      "2     30     60\n",
      "noramalized data\n",
      "      Data1     Data2\n",
      "0  0.166667  0.666667\n",
      "1  0.333333  0.833333\n",
      "2  0.500000  1.000000\n"
     ]
    }
   ],
   "source": [
    "#scaling the data have different ways\n",
    "#first Normalization using the higest range formula\n",
    "#using higest range\n",
    "df = pd.DataFrame({\"Data1\": [10, 20, 30], \"Data2\": [40, 50, 60]})\n",
    "\n",
    "column_maxes = df.max()\n",
    "df_max = column_maxes.max()\n",
    "normalized_df = df / df_max\n",
    "print(\"un normalized dataframe\")\n",
    "print(df)\n",
    "print(\"noramalized data\")\n",
    "print(normalized_df)"
   ]
  },
  {
   "cell_type": "code",
   "execution_count": 9,
   "metadata": {},
   "outputs": [
    {
     "name": "stdout",
     "output_type": "stream",
     "text": [
      "un normalized data\n",
      "   Data1  Data2\n",
      "0    -10     40\n",
      "1     20    -50\n",
      "2     30     60\n",
      "normalized data\n",
      "      Data1     Data2\n",
      "0  0.363636  0.818182\n",
      "1  0.636364  0.000000\n",
      "2  0.727273  1.000000\n"
     ]
    }
   ],
   "source": [
    "#normalize using the formula\n",
    "df = pd.DataFrame({\"Data1\": [-10, 20, 30], \"Data2\": [40, -50, 60]})\n",
    "\n",
    "column_maxes = df.max()\n",
    "df_max = column_maxes.max()\n",
    "column_mins = df.min()\n",
    "df_min = column_mins.min()\n",
    "normalized_df = (df - df_min) / (df_max - df_min)\n",
    "\n",
    "print(\"un normalized data\")\n",
    "print(df)\n",
    "print(\"normalized data\")\n",
    "print(normalized_df)"
   ]
  },
  {
   "cell_type": "code",
   "execution_count": 15,
   "metadata": {},
   "outputs": [
    {
     "name": "stdout",
     "output_type": "stream",
     "text": [
      "[[0.         0.81818182]\n",
      " [0.75       0.        ]\n",
      " [1.         1.        ]]\n"
     ]
    }
   ],
   "source": [
    "#normaliaze the data using the sklearn library\n",
    "from sklearn import preprocessing\n",
    "df = pd.DataFrame({\"Data1\": [-10, 20, 30], \"Data2\": [40, -50, 60]})\n",
    "\n",
    "#create the object\n",
    "scalar=preprocessing.MinMaxScaler()\n",
    "#Fit your data\n",
    "scaled_df=scalar.fit_transform(df)\n",
    "print(scaled_df)"
   ]
  },
  {
   "cell_type": "code",
   "execution_count": 12,
   "metadata": {},
   "outputs": [
    {
     "name": "stdout",
     "output_type": "stream",
     "text": [
      "[[-1.37281295  0.48771311]\n",
      " [ 0.39223227 -1.39346603]\n",
      " [ 0.98058068  0.90575292]]\n"
     ]
    }
   ],
   "source": [
    "# Standardization\n",
    "#make the mean to 0 and standard deviation to 1\n",
    "from sklearn import preprocessing\n",
    "df = pd.DataFrame({\"Data1\": [-10, 20, 30], \"Data2\": [40, -50, 60]})\n",
    "\n",
    "#create the object\n",
    "scalar=preprocessing.StandardScaler()\n",
    "#Fit your data\n",
    "scaled_df=scalar.fit_transform(df)\n",
    "print(scaled_df)"
   ]
  },
  {
   "cell_type": "code",
   "execution_count": null,
   "metadata": {},
   "outputs": [],
   "source": []
  }
 ],
 "metadata": {
  "kernelspec": {
   "display_name": "Python 3",
   "language": "python",
   "name": "python3"
  },
  "language_info": {
   "codemirror_mode": {
    "name": "ipython",
    "version": 3
   },
   "file_extension": ".py",
   "mimetype": "text/x-python",
   "name": "python",
   "nbconvert_exporter": "python",
   "pygments_lexer": "ipython3",
   "version": "3.7.6"
  }
 },
 "nbformat": 4,
 "nbformat_minor": 4
}
