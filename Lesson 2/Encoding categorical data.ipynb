{
 "cells": [
  {
   "cell_type": "code",
   "execution_count": 1,
   "metadata": {},
   "outputs": [],
   "source": [
    "#import the libraries\n",
    "import pandas as pd\n",
    "from sklearn.preprocessing import LabelEncoder, OneHotEncoder"
   ]
  },
  {
   "cell_type": "markdown",
   "metadata": {},
   "source": [
    "####  Label Encoding is nothing but the ordinal encoding.\n",
    "#### You have to use the label encoding to the \"dependant variable\" and the onehot encoding to the \"independant variables\" "
   ]
  },
  {
   "cell_type": "code",
   "execution_count": 12,
   "metadata": {},
   "outputs": [
    {
     "name": "stdout",
     "output_type": "stream",
     "text": [
      "   Country   Age   Salary Purchased\n",
      "0   France  44.0  72000.0        No\n",
      "1    Spain  27.0  48000.0       Yes\n",
      "2  Germany  30.0  54000.0        No\n",
      "3    Spain  38.0  61000.0        No\n",
      "4  Germany  40.0      NaN       Yes\n",
      "5   France  35.0  58000.0       Yes\n",
      "6    Spain   NaN  52000.0        No\n",
      "7   France  48.0  79000.0       Yes\n",
      "8  Germany  50.0  83000.0        No\n",
      "9   France  37.0  67000.0       Yes\n"
     ]
    }
   ],
   "source": [
    "df = pd.read_csv(r'C:\\Users\\ninjaac\\Desktop\\P14-Machine-Learning-AZ-Template-Folder\\Part 1 - Data Preprocessing\\Data_Preprocessing\\Data.csv')\n",
    "print(df)"
   ]
  },
  {
   "cell_type": "code",
   "execution_count": 27,
   "metadata": {},
   "outputs": [
    {
     "name": "stdout",
     "output_type": "stream",
     "text": [
      "   Country   Age   Salary\n",
      "0        0  44.0  72000.0\n",
      "1        2  27.0  48000.0\n",
      "2        1  30.0  54000.0\n",
      "3        2  38.0  61000.0\n",
      "4        1  40.0      NaN\n",
      "5        0  35.0  58000.0\n",
      "6        2   NaN  52000.0\n",
      "7        0  48.0  79000.0\n",
      "8        1  50.0  83000.0\n",
      "9        0  37.0  67000.0\n"
     ]
    }
   ],
   "source": [
    "#onehot encodin on the independant variable \n",
    "#first you have to do label encoding an then perform onehot \n",
    "x=df.iloc[:,:-1]\n",
    "y=df.iloc[:,3]\n",
    "labelencoder_X = LabelEncoder()\n",
    "\n",
    "x.iloc[:,0] = labelencoder_X.fit_transform(x.iloc[:,0])\n",
    "print(x)"
   ]
  },
  {
   "cell_type": "code",
   "execution_count": 22,
   "metadata": {},
   "outputs": [
    {
     "name": "stdout",
     "output_type": "stream",
     "text": [
      "[0 1 0 0 1 1 0 1 0 1]\n"
     ]
    }
   ],
   "source": [
    "#label encoding on the depemdant variable\n",
    "labelencoder_y = LabelEncoder()\n",
    "y = labelencoder_y.fit_transform(y)\n",
    "print(y)"
   ]
  },
  {
   "cell_type": "code",
   "execution_count": null,
   "metadata": {},
   "outputs": [],
   "source": []
  }
 ],
 "metadata": {
  "kernelspec": {
   "display_name": "Python 3",
   "language": "python",
   "name": "python3"
  },
  "language_info": {
   "codemirror_mode": {
    "name": "ipython",
    "version": 3
   },
   "file_extension": ".py",
   "mimetype": "text/x-python",
   "name": "python",
   "nbconvert_exporter": "python",
   "pygments_lexer": "ipython3",
   "version": "3.7.6"
  }
 },
 "nbformat": 4,
 "nbformat_minor": 4
}
